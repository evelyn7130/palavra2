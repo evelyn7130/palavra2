{
  "cells": [
    {
      "cell_type": "markdown",
      "metadata": {
        "id": "view-in-github",
        "colab_type": "text"
      },
      "source": [
        "<a href=\"https://colab.research.google.com/github/evelyn7130/palavra2/blob/perfpalavra1/Palavra_2.ipynb\" target=\"_parent\"><img src=\"https://colab.research.google.com/assets/colab-badge.svg\" alt=\"Open In Colab\"/></a>"
      ]
    },
    {
      "cell_type": "code",
      "source": [
        "palavra = 'Brasil948723  '\n",
        "vogais = 'aeiou'\n",
        "consoante = 0\n",
        "vogal = 0\n",
        "consoantes = 'bcdfghjklmnpqrstvwxyz'\n",
        "espaco = 0\n",
        "numeros = '1234567890'\n",
        "numero = 0\n",
        "\n",
        "for letra in palavra.lower(): # lower para converter maiúsculas em minúsculas\n",
        "  if letra in vogais:\n",
        "    vogal += 1\n",
        "  elif letra in consoantes:\n",
        "    consoante += 1\n",
        "  elif letra in numeros:\n",
        "    numero += 1\n",
        "  else:\n",
        "    espaco += 1\n",
        "\n",
        "print(f\"A palavra {palavra} tem {vogal} vogais, {consoante} consoantes, {espaco} espaços e {numero} números\")"
      ],
      "metadata": {
        "id": "Pcc6xAmFiX5q",
        "colab": {
          "base_uri": "https://localhost:8080/"
        },
        "outputId": "6a94ce88-8da1-4f23-a22a-a67756e74f4d"
      },
      "execution_count": 25,
      "outputs": [
        {
          "output_type": "stream",
          "name": "stdout",
          "text": [
            "A palavra Brasil948723   tem 2 vogais, 4 consoantes, 2 espaços e 6 números\n"
          ]
        }
      ]
    }
  ],
  "metadata": {
    "colab": {
      "provenance": [],
      "include_colab_link": true
    },
    "kernelspec": {
      "display_name": "Python 3",
      "name": "python3"
    }
  },
  "nbformat": 4,
  "nbformat_minor": 0
}